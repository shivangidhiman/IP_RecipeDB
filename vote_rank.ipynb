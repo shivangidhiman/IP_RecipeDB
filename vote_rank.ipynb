{
 "cells": [
  {
   "cell_type": "markdown",
   "metadata": {
    "id": "DOSMz_FJ4Vw1"
   },
   "source": [
    "# Data Analysis: RecipeDB\n",
    "\n",
    "## 4.1 Network Analysis - VoteRank Algorithm"
   ]
  },
  {
   "cell_type": "markdown",
   "metadata": {
    "id": "3Tbt4mNX4SFv"
   },
   "source": [
    "### Ingredient - Ingredient Graph\n",
    "We will now create a weighted graph between ingredients, where the weights represent the number of shared recipes. To do so, we have created a 2-dimensional dictionary."
   ]
  },
  {
   "cell_type": "code",
   "execution_count": 1,
   "metadata": {
    "id": "FLbYoewN1z3j"
   },
   "outputs": [],
   "source": [
    "#load libraries\n",
    "import numpy as np\n",
    "import pandas as pd \n",
    "import csv\n",
    "import plotly\n",
    "import plotly.express as px\n",
    "import seaborn as sns\n",
    "import matplotlib.pyplot as plt\n",
    "import networkx as nx"
   ]
  },
  {
   "cell_type": "code",
   "execution_count": 2,
   "metadata": {
    "id": "f81VSEe-4lnc"
   },
   "outputs": [],
   "source": [
    "#read the dataset\n",
    "data = pd.read_csv(\"datasets/dataset3.csv\")\n",
    "data = pd.DataFrame(data)\n",
    "data_dict = data.to_dict()"
   ]
  },
  {
   "cell_type": "code",
   "execution_count": 3,
   "metadata": {
    "id": "Fm7u9aJO1mpT"
   },
   "outputs": [],
   "source": [
    "ingr_arr = []\n",
    "reci_arr = []\n",
    "for i in range(len(data)):\n",
    "    ing = data_dict['ingredient'][i]\n",
    "    rec = data_dict['recipe_no'][i]\n",
    "    ingr_arr.append(ing)\n",
    "    reci_arr.append(rec)\n",
    "\n",
    "reci_arr = list(set(reci_arr))\n",
    "ingr_arr = list(set(ingr_arr))\n",
    "\n",
    "#2d-dictionary to create the graph\n",
    "dict_ingrs = {}\n",
    "temp_ing = []\n",
    "for i in range(len(ingr_arr)):\n",
    "    if(ingr_arr[i] not in temp_ing):\n",
    "        dict_ingrs[ingr_arr[i]] = i\n",
    "        temp_ing.append(ingr_arr[i])\n",
    "\n",
    "f = data\n",
    "\n",
    "#m stores the max of reci_arr and ingr_arr to determine the length of the dictionary\n",
    "m = max(len(reci_arr), len(ingr_arr))\n",
    "\n",
    "source_dict = dict()\n",
    "for ind in f.index:\n",
    "    source = dict_ingrs[f['ingredient'][ind]]\n",
    "    recipe_no = f[\"recipe_no\"][ind]\n",
    "    \n",
    "    #if two ingredients have a common recipe\n",
    "    if source in source_dict:\n",
    "        if recipe_no not in source_dict[source]:\n",
    "            source_dict[source][recipe_no] = \"\"\n",
    "    else:\n",
    "        source_dict[source] = dict()\n",
    "        source_dict[source][recipe_no] = \"\"\n",
    "\n",
    "weights = []\n",
    "for i in range(m+1):\n",
    "    temp = [0]*(m+1)\n",
    "    weights.append(temp)\n",
    "\n",
    "for ingredient in source_dict:\n",
    "    for source2 in source_dict:\n",
    "        count = 0\n",
    "        if ingredient!=source2:\n",
    "            for recipe_no in source_dict[ingredient]:\n",
    "                if recipe_no in source_dict[source2]:\n",
    "                    count += 1\n",
    "        weights[ingredient][source2] = count"
   ]
  },
  {
   "cell_type": "markdown",
   "metadata": {
    "id": "NcdIf1222Lci"
   },
   "source": [
    "#### Saving in a csv file\n",
    "The file 'ingredient_weights.csv' contains the weighted graph."
   ]
  },
  {
   "cell_type": "code",
   "execution_count": 4,
   "metadata": {
    "id": "Pjlh92I517eB"
   },
   "outputs": [],
   "source": [
    "#to save the graph in a csv file \n",
    "csv_file = open(\"ingredient_weights.csv\",'w',newline='')\n",
    "csv_writer = csv.writer(csv_file)\n",
    "\n",
    "for i in range(len(reci_arr)):\n",
    "    for j in range(len(reci_arr)):\n",
    "        if(weights[i][j]>0 and i!=j):\n",
    "            if(ingr_arr[i]!='nan' and ingr_arr[j]!='nan'):\n",
    "                csv_writer.writerow([ingr_arr[i],ingr_arr[j],weights[i][j]])"
   ]
  },
  {
   "cell_type": "markdown",
   "metadata": {
    "id": "1i6uHos540jF"
   },
   "source": [
    "### VoteRank Algorithm\n",
    "---\n",
    "VoteRank Algorithm is used to find the most influential nodes in a network, using metrics such as location in the network, degree and edge weights.\n",
    "\n",
    "Top 5 influential/key ingredients in our network:\n",
    "1. garlic\n",
    "2. water\n",
    "3. salt\n",
    "4. onion\n",
    "5. vegetable oil\n",
    "\n",
    "<em>Reference</em>: Zhang, J.X., Chen, D.B., Dong, Q. and Zhao, Z.D., 2016. Identifying a set of influential spreaders in complex networks. Scientific reports, 6, p.27823."
   ]
  },
  {
   "cell_type": "code",
   "execution_count": 5,
   "metadata": {
    "colab": {
     "base_uri": "https://localhost:8080/"
    },
    "id": "6rdGeY4C2ILY",
    "outputId": "0c6ccec2-618c-4c11-c545-2c036869893e"
   },
   "outputs": [
    {
     "name": "stdout",
     "output_type": "stream",
     "text": [
      "['water', 'garlic', 'salt', 'onion', 'vegetable oil']\n"
     ]
    }
   ],
   "source": [
    "#read the list\n",
    "G = nx.read_edgelist('output_files/ingredient_weights.csv', delimiter=',', encoding='latin1', create_using=nx.Graph(), nodetype=str, data=(('weight',int),))\n",
    "\n",
    "csv_file = open('output_files/voteRank_ingredient.csv','w',newline='')\n",
    "csv_writer = csv.writer(csv_file)\n",
    "csv_writer.writerow(['Nodes'])\n",
    "\n",
    "#use the nx library voterank\n",
    "voteRankList = nx.algorithms.centrality.voterank(G)\n",
    "\n",
    "for i in voteRankList:\n",
    "    csv_writer.writerow([i])\n",
    "\n",
    "print(voteRankList[:5])"
   ]
  },
  {
   "cell_type": "markdown",
   "metadata": {
    "id": "d1YO-a7L476c"
   },
   "source": [
    "The file 'voteRank_ingredient.csv' stores the list of most influential ingredients based on shared recipes. "
   ]
  }
 ],
 "metadata": {
  "colab": {
   "collapsed_sections": [],
   "name": "vote_rank.ipynb",
   "provenance": [],
   "toc_visible": true
  },
  "kernelspec": {
   "display_name": "Python 3",
   "language": "python",
   "name": "python3"
  },
  "language_info": {
   "codemirror_mode": {
    "name": "ipython",
    "version": 3
   },
   "file_extension": ".py",
   "mimetype": "text/x-python",
   "name": "python",
   "nbconvert_exporter": "python",
   "pygments_lexer": "ipython3",
   "version": "3.8.5"
  }
 },
 "nbformat": 4,
 "nbformat_minor": 1
}
